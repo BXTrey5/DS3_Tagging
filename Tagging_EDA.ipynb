{
 "cells": [
  {
   "cell_type": "code",
   "execution_count": 2,
   "id": "a80a567a",
   "metadata": {},
   "outputs": [],
   "source": [
    "import pandas as pd\n",
    "import numpy as np\n",
    "import os\n",
    "import re\n",
    "\n",
    "from nltk.corpus import stopwords\n",
    "import matplotlib.pyplot as plt\n",
    "import plotly.express as px"
   ]
  },
  {
   "cell_type": "code",
   "execution_count": 4,
   "id": "8febb404",
   "metadata": {},
   "outputs": [
    {
     "data": {
      "text/html": [
       "<div>\n",
       "<style scoped>\n",
       "    .dataframe tbody tr th:only-of-type {\n",
       "        vertical-align: middle;\n",
       "    }\n",
       "\n",
       "    .dataframe tbody tr th {\n",
       "        vertical-align: top;\n",
       "    }\n",
       "\n",
       "    .dataframe thead th {\n",
       "        text-align: right;\n",
       "    }\n",
       "</style>\n",
       "<table border=\"1\" class=\"dataframe\">\n",
       "  <thead>\n",
       "    <tr style=\"text-align: right;\">\n",
       "      <th></th>\n",
       "      <th>Id</th>\n",
       "      <th>Title</th>\n",
       "      <th>Body</th>\n",
       "      <th>Tags</th>\n",
       "      <th>CreationDate</th>\n",
       "      <th>Y</th>\n",
       "    </tr>\n",
       "  </thead>\n",
       "  <tbody>\n",
       "    <tr>\n",
       "      <th>0</th>\n",
       "      <td>34552974</td>\n",
       "      <td>How to get all the child records from differen...</td>\n",
       "      <td>I am having 4 different tables like \\r\\nselect...</td>\n",
       "      <td>&lt;sql&gt;&lt;sql-server&gt;</td>\n",
       "      <td>2016-01-01 01:44:52</td>\n",
       "      <td>LQ_EDIT</td>\n",
       "    </tr>\n",
       "    <tr>\n",
       "      <th>1</th>\n",
       "      <td>34554721</td>\n",
       "      <td>Retrieve all except some data of the another t...</td>\n",
       "      <td>I have two table m_master and tbl_appointment\\...</td>\n",
       "      <td>&lt;php&gt;&lt;mysql&gt;&lt;sql&gt;&lt;codeigniter&gt;&lt;mysqli&gt;</td>\n",
       "      <td>2016-01-01 08:43:50</td>\n",
       "      <td>LQ_EDIT</td>\n",
       "    </tr>\n",
       "    <tr>\n",
       "      <th>2</th>\n",
       "      <td>34555135</td>\n",
       "      <td>Pandas: read_html</td>\n",
       "      <td>&lt;p&gt;I'm trying to extract US states from wiki U...</td>\n",
       "      <td>&lt;python&gt;&lt;pandas&gt;</td>\n",
       "      <td>2016-01-01 09:55:22</td>\n",
       "      <td>HQ</td>\n",
       "    </tr>\n",
       "    <tr>\n",
       "      <th>3</th>\n",
       "      <td>34555448</td>\n",
       "      <td>Reader Always gimme NULL</td>\n",
       "      <td>I'm so new to C#, I wanna make an application ...</td>\n",
       "      <td>&lt;sql-server&gt;&lt;c#-4.0&gt;</td>\n",
       "      <td>2016-01-01 10:43:45</td>\n",
       "      <td>LQ_EDIT</td>\n",
       "    </tr>\n",
       "    <tr>\n",
       "      <th>4</th>\n",
       "      <td>34555752</td>\n",
       "      <td>php rearrange array elements based on condition</td>\n",
       "      <td>basically i have this array:\\r\\n\\r\\n    array(...</td>\n",
       "      <td>&lt;php&gt;</td>\n",
       "      <td>2016-01-01 11:34:09</td>\n",
       "      <td>LQ_EDIT</td>\n",
       "    </tr>\n",
       "  </tbody>\n",
       "</table>\n",
       "</div>"
      ],
      "text/plain": [
       "         Id                                              Title  \\\n",
       "0  34552974  How to get all the child records from differen...   \n",
       "1  34554721  Retrieve all except some data of the another t...   \n",
       "2  34555135                                  Pandas: read_html   \n",
       "3  34555448                           Reader Always gimme NULL   \n",
       "4  34555752    php rearrange array elements based on condition   \n",
       "\n",
       "                                                Body  \\\n",
       "0  I am having 4 different tables like \\r\\nselect...   \n",
       "1  I have two table m_master and tbl_appointment\\...   \n",
       "2  <p>I'm trying to extract US states from wiki U...   \n",
       "3  I'm so new to C#, I wanna make an application ...   \n",
       "4  basically i have this array:\\r\\n\\r\\n    array(...   \n",
       "\n",
       "                                     Tags        CreationDate        Y  \n",
       "0                       <sql><sql-server> 2016-01-01 01:44:52  LQ_EDIT  \n",
       "1  <php><mysql><sql><codeigniter><mysqli> 2016-01-01 08:43:50  LQ_EDIT  \n",
       "2                        <python><pandas> 2016-01-01 09:55:22       HQ  \n",
       "3                    <sql-server><c#-4.0> 2016-01-01 10:43:45  LQ_EDIT  \n",
       "4                                   <php> 2016-01-01 11:34:09  LQ_EDIT  "
      ]
     },
     "execution_count": 4,
     "metadata": {},
     "output_type": "execute_result"
    }
   ],
   "source": [
    "valid = pd.read_csv('data/valid.csv')\n",
    "train = pd.read_csv('data/train.csv')\n",
    "\n",
    "data = pd.concat([valid, train])\n",
    "data[\"CreationDate\"] = pd.to_datetime(data[\"CreationDate\"])\n",
    "data.head()"
   ]
  },
  {
   "cell_type": "code",
   "execution_count": 3,
   "id": "8ab54587",
   "metadata": {},
   "outputs": [],
   "source": [
    "pattern = r\"<([^<>]*)>\"\n",
    "def to_lst(tag):\n",
    "    return re.findall(pattern, tag)\n",
    "data[\"Tags\"] = data[\"Tags\"].apply(to_lst)\n",
    "data"
   ]
  },
  {
   "cell_type": "code",
   "execution_count": 15,
   "id": "5d0c3387",
   "metadata": {
    "scrolled": false
   },
   "outputs": [],
   "source": [
    "fig = px.histogram(data[\"CreationDate\"], \n",
    "                   labels={\n",
    "                     \"value\": \"Date\",\n",
    "                     \"count\": \"Count\"\n",
    "                 },\n",
    "                   title=\"Number of Posts from December 2015 - March 2020\")\n",
    "fig.write_html('Number of Posts from December 2015 - March 2020.html', include_plotlyjs='cdn')\n",
    "fig"
   ]
  },
  {
   "cell_type": "code",
   "execution_count": 5,
   "id": "6b974b36",
   "metadata": {},
   "outputs": [],
   "source": [
    "def clean_df(df):\n",
    "    df['Body_processed'] = df['Body'].map(lambda x: re.sub(r'(?s)(?<=<code>)(.*?)(?=<\\/code>)','', x))\n",
    "    df['Body_processed'] = df['Body_processed'].map(lambda x: re.sub('<.*?>', '', x))\n",
    "    df['Body_processed'] = df['Body_processed'].map(lambda x: re.sub('[^\\w\\s]', '', x))\n",
    "    df['Body_processed'] = df['Body_processed'].map(lambda x: re.sub('\\\\n+', ' ', x))\n",
    "    df['Body_processed'] = df['Body_processed'].map(lambda x: re.sub('\\/', ' ', x))\n",
    "    df['Body_processed'] = df['Body_processed'].map(lambda x: re.sub(' [ ]+', ' ', x))\n",
    "    df['Body_processed'] = df['Body_processed'].map(lambda x: x.lower())\n",
    "    \n",
    "    stop = set(stopwords.words('english'))\n",
    "    df['Body_processed'] = df['Body_processed'].apply(lambda x: ' '.join([word for word in x.split() if word not in (stop)]))\n",
    "clean_df(data)\n",
    "data.head()"
   ]
  },
  {
   "cell_type": "code",
   "execution_count": 6,
   "id": "12e6c5ad",
   "metadata": {},
   "outputs": [],
   "source": [
    "tags = data[\"Tags\"].sum()"
   ]
  },
  {
   "cell_type": "code",
   "execution_count": 7,
   "id": "962e91c5",
   "metadata": {},
   "outputs": [],
   "source": [
    "tags_vc = pd.Series(tags).value_counts() #10703\n",
    "len(tags_vc[tags_vc.values > 1]) #5774\n",
    "len(tags_vc[tags_vc.values > 2]) #4155\n",
    "len(tags_vc[tags_vc.values > 3]) #3283\n",
    "toptags = tags_vc[tags_vc.values > 1000] #23\n",
    "toptags"
   ]
  },
  {
   "cell_type": "code",
   "execution_count": 8,
   "id": "c5006b71",
   "metadata": {},
   "outputs": [],
   "source": [
    "fig = px.bar(toptags,\n",
    "             labels={\n",
    "                     \"index\": \"Tag\",\n",
    "                     \"value\": \"Count\"\n",
    "                 },\n",
    "             title=\"Count of the Most Common Tags\",\n",
    "             color_discrete_sequence=[px.colors.qualitative.Safe[4]])\n",
    "fig.write_html('Count of the Most Common Tags.html', include_plotlyjs='cdn')\n",
    "fig"
   ]
  },
  {
   "cell_type": "code",
   "execution_count": 9,
   "id": "0aec197f",
   "metadata": {},
   "outputs": [],
   "source": [
    "datetag = pd.DataFrame()\n",
    "datetag[\"Date\"] = data[\"CreationDate\"].dt.to_period('M')#.transform(lambda x: x.date())\n",
    "datetag[\"Tags\"] = data[\"Tags\"]\n",
    "datetag"
   ]
  },
  {
   "cell_type": "code",
   "execution_count": 10,
   "id": "476ddd95",
   "metadata": {
    "scrolled": true
   },
   "outputs": [],
   "source": [
    "for i in toptags.index:\n",
    "    datetag[i] = datetag[\"Tags\"].apply(lambda x: i in x).astype(int)\n",
    "\n",
    "datetag.head()"
   ]
  },
  {
   "cell_type": "code",
   "execution_count": 11,
   "id": "c5a5f913",
   "metadata": {
    "scrolled": true
   },
   "outputs": [],
   "source": [
    "dtgb = datetag.groupby(\"Date\").sum().reset_index()\n",
    "dtgb"
   ]
  },
  {
   "cell_type": "code",
   "execution_count": 12,
   "id": "ba5ac0c4",
   "metadata": {},
   "outputs": [],
   "source": [
    "dtgb[\"sDate\"] = dtgb[\"Date\"].astype(str)"
   ]
  },
  {
   "cell_type": "code",
   "execution_count": 13,
   "id": "fbe67b51",
   "metadata": {
    "scrolled": true
   },
   "outputs": [],
   "source": [
    "tdtgb = dtgb.T\n",
    "tdtgb"
   ]
  },
  {
   "cell_type": "code",
   "execution_count": 14,
   "id": "4db7c6f5",
   "metadata": {},
   "outputs": [],
   "source": [
    "fig = px.bar(dtgb, x = \"sDate\",\n",
    "             y = list(toptags.index),\n",
    "            labels={\n",
    "                     \"sDate\": \"Date\",\n",
    "                     \"value\": \"Count\"\n",
    "                 },\n",
    "             title=\"Bar Graph Visualizing the Distribution of the Most Common Tags per Month\")\n",
    "fig.write_html('Bar Graph Visualizing the Distribution of the Most Common Tags per Month.html', include_plotlyjs='cdn')\n",
    "fig"
   ]
  },
  {
   "cell_type": "code",
   "execution_count": null,
   "id": "eccbccd7",
   "metadata": {},
   "outputs": [],
   "source": []
  }
 ],
 "metadata": {
  "kernelspec": {
   "display_name": "Python 3 (ipykernel)",
   "language": "python",
   "name": "python3"
  },
  "language_info": {
   "codemirror_mode": {
    "name": "ipython",
    "version": 3
   },
   "file_extension": ".py",
   "mimetype": "text/x-python",
   "name": "python",
   "nbconvert_exporter": "python",
   "pygments_lexer": "ipython3",
   "version": "3.8.10"
  }
 },
 "nbformat": 4,
 "nbformat_minor": 5
}
