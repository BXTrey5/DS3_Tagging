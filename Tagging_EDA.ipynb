{
 "cells": [
  {
   "cell_type": "code",
   "execution_count": 1,
   "id": "a80a567a",
   "metadata": {},
   "outputs": [],
   "source": [
    "import pandas as pd\n",
    "import numpy as np\n",
    "import os\n",
    "import re\n",
    "\n",
    "from nltk.corpus import stopwords\n",
    "import matplotlib.pyplot as plt\n",
    "import plotly.express as px"
   ]
  },
  {
   "cell_type": "code",
   "execution_count": 2,
   "id": "8febb404",
   "metadata": {},
   "outputs": [],
   "source": [
    "valid = pd.read_csv('valid.csv')\n",
    "train = pd.read_csv('train.csv')\n",
    "\n",
    "data = pd.concat([valid, train])\n",
    "data[\"CreationDate\"] = pd.to_datetime(data[\"CreationDate\"])\n",
    "data.head()"
   ]
  },
  {
   "cell_type": "code",
   "execution_count": 3,
   "id": "8ab54587",
   "metadata": {},
   "outputs": [],
   "source": [
    "pattern = r\"<([^<>]*)>\"\n",
    "def to_lst(tag):\n",
    "    return re.findall(pattern, tag)\n",
    "data[\"Tags\"] = data[\"Tags\"].apply(to_lst)\n",
    "data"
   ]
  },
  {
   "cell_type": "code",
   "execution_count": 15,
   "id": "5d0c3387",
   "metadata": {
    "scrolled": false
   },
   "outputs": [],
   "source": [
    "fig = px.histogram(data[\"CreationDate\"], \n",
    "                   labels={\n",
    "                     \"value\": \"Date\",\n",
    "                     \"count\": \"Count\"\n",
    "                 },\n",
    "                   title=\"Number of Posts from December 2015 - March 2020\")\n",
    "fig.write_html('Number of Posts from December 2015 - March 2020.html', include_plotlyjs='cdn')\n",
    "fig"
   ]
  },
  {
   "cell_type": "code",
   "execution_count": 5,
   "id": "6b974b36",
   "metadata": {},
   "outputs": [],
   "source": [
    "def clean_df(df):\n",
    "    df['Body_processed'] = df['Body'].map(lambda x: re.sub(r'(?s)(?<=<code>)(.*?)(?=<\\/code>)','', x))\n",
    "    df['Body_processed'] = df['Body_processed'].map(lambda x: re.sub('<.*?>', '', x))\n",
    "    df['Body_processed'] = df['Body_processed'].map(lambda x: re.sub('[^\\w\\s]', '', x))\n",
    "    df['Body_processed'] = df['Body_processed'].map(lambda x: re.sub('\\\\n+', ' ', x))\n",
    "    df['Body_processed'] = df['Body_processed'].map(lambda x: re.sub('\\/', ' ', x))\n",
    "    df['Body_processed'] = df['Body_processed'].map(lambda x: re.sub(' [ ]+', ' ', x))\n",
    "    df['Body_processed'] = df['Body_processed'].map(lambda x: x.lower())\n",
    "    \n",
    "    stop = set(stopwords.words('english'))\n",
    "    df['Body_processed'] = df['Body_processed'].apply(lambda x: ' '.join([word for word in x.split() if word not in (stop)]))\n",
    "clean_df(data)\n",
    "data.head()"
   ]
  },
  {
   "cell_type": "code",
   "execution_count": 6,
   "id": "12e6c5ad",
   "metadata": {},
   "outputs": [],
   "source": [
    "tags = data[\"Tags\"].sum()"
   ]
  },
  {
   "cell_type": "code",
   "execution_count": 7,
   "id": "962e91c5",
   "metadata": {},
   "outputs": [],
   "source": [
    "tags_vc = pd.Series(tags).value_counts() #10703\n",
    "len(tags_vc[tags_vc.values > 1]) #5774\n",
    "len(tags_vc[tags_vc.values > 2]) #4155\n",
    "len(tags_vc[tags_vc.values > 3]) #3283\n",
    "toptags = tags_vc[tags_vc.values > 1000] #23\n",
    "toptags"
   ]
  },
  {
   "cell_type": "code",
   "execution_count": 8,
   "id": "c5006b71",
   "metadata": {},
   "outputs": [],
   "source": [
    "fig = px.bar(toptags,\n",
    "             labels={\n",
    "                     \"index\": \"Tag\",\n",
    "                     \"value\": \"Count\"\n",
    "                 },\n",
    "             title=\"Count of the Most Common Tags\",\n",
    "             color_discrete_sequence=[px.colors.qualitative.Safe[4]])\n",
    "fig.write_html('Count of the Most Common Tags.html', include_plotlyjs='cdn')\n",
    "fig"
   ]
  },
  {
   "cell_type": "code",
   "execution_count": 9,
   "id": "0aec197f",
   "metadata": {},
   "outputs": [],
   "source": [
    "datetag = pd.DataFrame()\n",
    "datetag[\"Date\"] = data[\"CreationDate\"].dt.to_period('M')#.transform(lambda x: x.date())\n",
    "datetag[\"Tags\"] = data[\"Tags\"]\n",
    "datetag"
   ]
  },
  {
   "cell_type": "code",
   "execution_count": 10,
   "id": "476ddd95",
   "metadata": {
    "scrolled": true
   },
   "outputs": [],
   "source": [
    "for i in toptags.index:\n",
    "    datetag[i] = datetag[\"Tags\"].apply(lambda x: i in x).astype(int)\n",
    "\n",
    "datetag.head()"
   ]
  },
  {
   "cell_type": "code",
   "execution_count": 11,
   "id": "c5a5f913",
   "metadata": {
    "scrolled": true
   },
   "outputs": [],
   "source": [
    "dtgb = datetag.groupby(\"Date\").sum().reset_index()\n",
    "dtgb"
   ]
  },
  {
   "cell_type": "code",
   "execution_count": 12,
   "id": "ba5ac0c4",
   "metadata": {},
   "outputs": [],
   "source": [
    "dtgb[\"sDate\"] = dtgb[\"Date\"].astype(str)"
   ]
  },
  {
   "cell_type": "code",
   "execution_count": 13,
   "id": "fbe67b51",
   "metadata": {
    "scrolled": true
   },
   "outputs": [],
   "source": [
    "tdtgb = dtgb.T\n",
    "tdtgb"
   ]
  },
  {
   "cell_type": "code",
   "execution_count": 14,
   "id": "4db7c6f5",
   "metadata": {},
   "outputs": [],
   "source": [
    "fig = px.bar(dtgb, x = \"sDate\",\n",
    "             y = list(toptags.index),\n",
    "            labels={\n",
    "                     \"sDate\": \"Date\",\n",
    "                     \"value\": \"Count\"\n",
    "                 },\n",
    "             title=\"Bar Graph Visualizing the Distribution of the Most Common Tags per Month\")\n",
    "fig.write_html('Bar Graph Visualizing the Distribution of the Most Common Tags per Month.html', include_plotlyjs='cdn')\n",
    "fig"
   ]
  },
  {
   "cell_type": "code",
   "execution_count": null,
   "id": "eccbccd7",
   "metadata": {},
   "outputs": [],
   "source": []
  }
 ],
 "metadata": {
  "kernelspec": {
   "display_name": "Python 3 (ipykernel)",
   "language": "python",
   "name": "python3"
  },
  "language_info": {
   "codemirror_mode": {
    "name": "ipython",
    "version": 3
   },
   "file_extension": ".py",
   "mimetype": "text/x-python",
   "name": "python",
   "nbconvert_exporter": "python",
   "pygments_lexer": "ipython3",
   "version": "3.8.10"
  }
 },
 "nbformat": 4,
 "nbformat_minor": 5
}
