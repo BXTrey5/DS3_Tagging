{
 "cells": [
  {
   "cell_type": "code",
   "execution_count": 1,
   "metadata": {},
   "outputs": [],
   "source": [
    "# imports\n",
    "import tomotopy as tp\n",
    "import pandas as pd\n",
    "import re\n",
    "import numpy as np\n",
    "\n",
    "from nltk.corpus import stopwords\n",
    "from sklearn.model_selection import train_test_split"
   ]
  },
  {
   "cell_type": "code",
   "execution_count": 2,
   "metadata": {},
   "outputs": [
    {
     "data": {
      "text/html": [
       "<div>\n",
       "<style scoped>\n",
       "    .dataframe tbody tr th:only-of-type {\n",
       "        vertical-align: middle;\n",
       "    }\n",
       "\n",
       "    .dataframe tbody tr th {\n",
       "        vertical-align: top;\n",
       "    }\n",
       "\n",
       "    .dataframe thead th {\n",
       "        text-align: right;\n",
       "    }\n",
       "</style>\n",
       "<table border=\"1\" class=\"dataframe\">\n",
       "  <thead>\n",
       "    <tr style=\"text-align: right;\">\n",
       "      <th></th>\n",
       "      <th>Id</th>\n",
       "      <th>Title</th>\n",
       "      <th>Body</th>\n",
       "      <th>Tags</th>\n",
       "      <th>CreationDate</th>\n",
       "      <th>Y</th>\n",
       "    </tr>\n",
       "  </thead>\n",
       "  <tbody>\n",
       "    <tr>\n",
       "      <th>0</th>\n",
       "      <td>34552656</td>\n",
       "      <td>Java: Repeat Task Every Random Seconds</td>\n",
       "      <td>&lt;p&gt;I'm already familiar with repeating tasks e...</td>\n",
       "      <td>&lt;java&gt;&lt;repeat&gt;</td>\n",
       "      <td>2016-01-01 00:21:59</td>\n",
       "      <td>LQ_CLOSE</td>\n",
       "    </tr>\n",
       "    <tr>\n",
       "      <th>1</th>\n",
       "      <td>34553034</td>\n",
       "      <td>Why are Java Optionals immutable?</td>\n",
       "      <td>&lt;p&gt;I'd like to understand why Java 8 Optionals...</td>\n",
       "      <td>&lt;java&gt;&lt;optional&gt;</td>\n",
       "      <td>2016-01-01 02:03:20</td>\n",
       "      <td>HQ</td>\n",
       "    </tr>\n",
       "    <tr>\n",
       "      <th>2</th>\n",
       "      <td>34553174</td>\n",
       "      <td>Text Overlay Image with Darkened Opacity React...</td>\n",
       "      <td>&lt;p&gt;I am attempting to overlay a title over an ...</td>\n",
       "      <td>&lt;javascript&gt;&lt;image&gt;&lt;overlay&gt;&lt;react-native&gt;&lt;opa...</td>\n",
       "      <td>2016-01-01 02:48:24</td>\n",
       "      <td>HQ</td>\n",
       "    </tr>\n",
       "    <tr>\n",
       "      <th>3</th>\n",
       "      <td>34553318</td>\n",
       "      <td>Why ternary operator in swift is so picky?</td>\n",
       "      <td>&lt;p&gt;The question is very simple, but I just cou...</td>\n",
       "      <td>&lt;swift&gt;&lt;operators&gt;&lt;whitespace&gt;&lt;ternary-operato...</td>\n",
       "      <td>2016-01-01 03:30:17</td>\n",
       "      <td>HQ</td>\n",
       "    </tr>\n",
       "    <tr>\n",
       "      <th>4</th>\n",
       "      <td>34553755</td>\n",
       "      <td>hide/show fab with scale animation</td>\n",
       "      <td>&lt;p&gt;I'm using custom floatingactionmenu. I need...</td>\n",
       "      <td>&lt;android&gt;&lt;material-design&gt;&lt;floating-action-but...</td>\n",
       "      <td>2016-01-01 05:21:48</td>\n",
       "      <td>HQ</td>\n",
       "    </tr>\n",
       "  </tbody>\n",
       "</table>\n",
       "</div>"
      ],
      "text/plain": [
       "         Id                                              Title  \\\n",
       "0  34552656             Java: Repeat Task Every Random Seconds   \n",
       "1  34553034                  Why are Java Optionals immutable?   \n",
       "2  34553174  Text Overlay Image with Darkened Opacity React...   \n",
       "3  34553318         Why ternary operator in swift is so picky?   \n",
       "4  34553755                 hide/show fab with scale animation   \n",
       "\n",
       "                                                Body  \\\n",
       "0  <p>I'm already familiar with repeating tasks e...   \n",
       "1  <p>I'd like to understand why Java 8 Optionals...   \n",
       "2  <p>I am attempting to overlay a title over an ...   \n",
       "3  <p>The question is very simple, but I just cou...   \n",
       "4  <p>I'm using custom floatingactionmenu. I need...   \n",
       "\n",
       "                                                Tags         CreationDate  \\\n",
       "0                                     <java><repeat>  2016-01-01 00:21:59   \n",
       "1                                   <java><optional>  2016-01-01 02:03:20   \n",
       "2  <javascript><image><overlay><react-native><opa...  2016-01-01 02:48:24   \n",
       "3  <swift><operators><whitespace><ternary-operato...  2016-01-01 03:30:17   \n",
       "4  <android><material-design><floating-action-but...  2016-01-01 05:21:48   \n",
       "\n",
       "          Y  \n",
       "0  LQ_CLOSE  \n",
       "1        HQ  \n",
       "2        HQ  \n",
       "3        HQ  \n",
       "4        HQ  "
      ]
     },
     "execution_count": 2,
     "metadata": {},
     "output_type": "execute_result"
    }
   ],
   "source": [
    "# load in dataset\n",
    "post_words = pd.read_csv('data/train.csv')\n",
    "post_words.head()"
   ]
  },
  {
   "cell_type": "code",
   "execution_count": 3,
   "metadata": {},
   "outputs": [
    {
     "data": {
      "text/html": [
       "<div>\n",
       "<style scoped>\n",
       "    .dataframe tbody tr th:only-of-type {\n",
       "        vertical-align: middle;\n",
       "    }\n",
       "\n",
       "    .dataframe tbody tr th {\n",
       "        vertical-align: top;\n",
       "    }\n",
       "\n",
       "    .dataframe thead th {\n",
       "        text-align: right;\n",
       "    }\n",
       "</style>\n",
       "<table border=\"1\" class=\"dataframe\">\n",
       "  <thead>\n",
       "    <tr style=\"text-align: right;\">\n",
       "      <th></th>\n",
       "      <th>Id</th>\n",
       "      <th>Title</th>\n",
       "      <th>Body</th>\n",
       "      <th>Tags</th>\n",
       "      <th>CreationDate</th>\n",
       "      <th>Y</th>\n",
       "      <th>Code</th>\n",
       "      <th>Body_processed</th>\n",
       "      <th>Title_processed</th>\n",
       "    </tr>\n",
       "  </thead>\n",
       "  <tbody>\n",
       "    <tr>\n",
       "      <th>0</th>\n",
       "      <td>34552656</td>\n",
       "      <td>Java: Repeat Task Every Random Seconds</td>\n",
       "      <td>&lt;p&gt;I'm already familiar with repeating tasks e...</td>\n",
       "      <td>[java, repeat]</td>\n",
       "      <td>2016-01-01 00:21:59</td>\n",
       "      <td>LQ_CLOSE</td>\n",
       "      <td>[]</td>\n",
       "      <td>im already familiar repeating tasks every n se...</td>\n",
       "      <td>java repeat task every random seconds</td>\n",
       "    </tr>\n",
       "    <tr>\n",
       "      <th>1</th>\n",
       "      <td>34553034</td>\n",
       "      <td>Why are Java Optionals immutable?</td>\n",
       "      <td>&lt;p&gt;I'd like to understand why Java 8 Optionals...</td>\n",
       "      <td>[java, optional]</td>\n",
       "      <td>2016-01-01 02:03:20</td>\n",
       "      <td>HQ</td>\n",
       "      <td>[]</td>\n",
       "      <td>id like understand java 8 optionals designed i...</td>\n",
       "      <td>java optionals immutable</td>\n",
       "    </tr>\n",
       "    <tr>\n",
       "      <th>2</th>\n",
       "      <td>34553174</td>\n",
       "      <td>Text Overlay Image with Darkened Opacity React...</td>\n",
       "      <td>&lt;p&gt;I am attempting to overlay a title over an ...</td>\n",
       "      <td>[javascript, image, overlay, react-native, opa...</td>\n",
       "      <td>2016-01-01 02:48:24</td>\n",
       "      <td>HQ</td>\n",
       "      <td>[//component for article preview touchable ima...</td>\n",
       "      <td>attempting overlay title image image darkened ...</td>\n",
       "      <td>text overlay image darkened opacity react native</td>\n",
       "    </tr>\n",
       "    <tr>\n",
       "      <th>3</th>\n",
       "      <td>34553318</td>\n",
       "      <td>Why ternary operator in swift is so picky?</td>\n",
       "      <td>&lt;p&gt;The question is very simple, but I just cou...</td>\n",
       "      <td>[swift, operators, whitespace, ternary-operato...</td>\n",
       "      <td>2016-01-01 03:30:17</td>\n",
       "      <td>HQ</td>\n",
       "      <td>[return x == 0? \"\" : \"Hello\"\\n, return x == 0 ...</td>\n",
       "      <td>question simple could find answer doesnt compi...</td>\n",
       "      <td>ternary operator swift picky</td>\n",
       "    </tr>\n",
       "    <tr>\n",
       "      <th>4</th>\n",
       "      <td>34553755</td>\n",
       "      <td>hide/show fab with scale animation</td>\n",
       "      <td>&lt;p&gt;I'm using custom floatingactionmenu. I need...</td>\n",
       "      <td>[android, material-design, floating-action-but...</td>\n",
       "      <td>2016-01-01 05:21:48</td>\n",
       "      <td>HQ</td>\n",
       "      <td>[]</td>\n",
       "      <td>im using custom floatingactionmenu need implem...</td>\n",
       "      <td>hideshow fab scale animation</td>\n",
       "    </tr>\n",
       "  </tbody>\n",
       "</table>\n",
       "</div>"
      ],
      "text/plain": [
       "         Id                                              Title  \\\n",
       "0  34552656             Java: Repeat Task Every Random Seconds   \n",
       "1  34553034                  Why are Java Optionals immutable?   \n",
       "2  34553174  Text Overlay Image with Darkened Opacity React...   \n",
       "3  34553318         Why ternary operator in swift is so picky?   \n",
       "4  34553755                 hide/show fab with scale animation   \n",
       "\n",
       "                                                Body  \\\n",
       "0  <p>I'm already familiar with repeating tasks e...   \n",
       "1  <p>I'd like to understand why Java 8 Optionals...   \n",
       "2  <p>I am attempting to overlay a title over an ...   \n",
       "3  <p>The question is very simple, but I just cou...   \n",
       "4  <p>I'm using custom floatingactionmenu. I need...   \n",
       "\n",
       "                                                Tags         CreationDate  \\\n",
       "0                                     [java, repeat]  2016-01-01 00:21:59   \n",
       "1                                   [java, optional]  2016-01-01 02:03:20   \n",
       "2  [javascript, image, overlay, react-native, opa...  2016-01-01 02:48:24   \n",
       "3  [swift, operators, whitespace, ternary-operato...  2016-01-01 03:30:17   \n",
       "4  [android, material-design, floating-action-but...  2016-01-01 05:21:48   \n",
       "\n",
       "          Y                                               Code  \\\n",
       "0  LQ_CLOSE                                                 []   \n",
       "1        HQ                                                 []   \n",
       "2        HQ  [//component for article preview touchable ima...   \n",
       "3        HQ  [return x == 0? \"\" : \"Hello\"\\n, return x == 0 ...   \n",
       "4        HQ                                                 []   \n",
       "\n",
       "                                      Body_processed  \\\n",
       "0  im already familiar repeating tasks every n se...   \n",
       "1  id like understand java 8 optionals designed i...   \n",
       "2  attempting overlay title image image darkened ...   \n",
       "3  question simple could find answer doesnt compi...   \n",
       "4  im using custom floatingactionmenu need implem...   \n",
       "\n",
       "                                    Title_processed  \n",
       "0             java repeat task every random seconds  \n",
       "1                          java optionals immutable  \n",
       "2  text overlay image darkened opacity react native  \n",
       "3                      ternary operator swift picky  \n",
       "4                      hideshow fab scale animation  "
      ]
     },
     "execution_count": 3,
     "metadata": {},
     "output_type": "execute_result"
    }
   ],
   "source": [
    "# separates code from body and puts into new column\n",
    "def separate_code(df):\n",
    "    df['Code'] = df['Body'].map(lambda x: re.findall(r'(?s)(?<=<code>)(.*?)(?=<\\/code>)', x) if re.findall(r'(?s)(?<=<code>)(.*?)(?=<\\/code>)', x) != [] else [\"\"])\n",
    "    \n",
    "# cleans body by removing code, tags, extra space, and change all case to lower, removes stopwords\n",
    "def clean_df(df):\n",
    "    df['Body_processed'] = df['Body'].map(lambda x: re.sub(r'(?s)(?<=<code>)(.*?)(?=<\\/code>)','', x))\n",
    "    df['Body_processed'] = df['Body_processed'].map(lambda x: re.sub('<.*?>', '', x))\n",
    "    df['Body_processed'] = df['Body_processed'].map(lambda x: re.sub('[^\\w\\s]', '', x))\n",
    "    df['Body_processed'] = df['Body_processed'].map(lambda x: re.sub('\\\\n+', ' ', x))\n",
    "    df['Body_processed'] = df['Body_processed'].map(lambda x: re.sub('\\/', ' ', x))\n",
    "    df['Body_processed'] = df['Body_processed'].map(lambda x: re.sub(' [ ]+', ' ', x))\n",
    "    df['Body_processed'] = df['Body_processed'].map(lambda x: x.lower())\n",
    "    \n",
    "    stop = set(stopwords.words('english'))\n",
    "    df['Body_processed'] = df['Body_processed'].apply(lambda x: ' '.join([word for word in x.split() if word not in (stop)]))\n",
    "    \n",
    "    df['Title_processed'] = df['Title'].map(lambda x: re.sub(r'(?s)(?<=<code>)(.*?)(?=<\\/code>)','', x))\n",
    "    df['Title_processed'] = df['Title_processed'].map(lambda x: re.sub('<.*?>', '', x))\n",
    "    df['Title_processed'] = df['Title_processed'].map(lambda x: re.sub('[^\\w\\s]', '', x))\n",
    "    df['Title_processed'] = df['Title_processed'].map(lambda x: re.sub('\\\\n+', ' ', x))\n",
    "    df['Title_processed'] = df['Title_processed'].map(lambda x: re.sub('\\/', ' ', x))\n",
    "    df['Title_processed'] = df['Title_processed'].map(lambda x: re.sub(' [ ]+', ' ', x))\n",
    "    df['Title_processed'] = df['Title_processed'].map(lambda x: x.lower())\n",
    "    \n",
    "    df['Title_processed'] = df['Title_processed'].apply(lambda x: ' '.join([word for word in x.split() if word not in (stop)]))\n",
    "\n",
    "\n",
    "# converts Tags column to functional list\n",
    "def to_lst(tag):\n",
    "    pattern = r\"<([^<>]*)>\"\n",
    "    return re.findall(pattern, tag)\n",
    "\n",
    "# apply data cleaning functions\n",
    "separate_code(post_words)\n",
    "clean_df(post_words)\n",
    "post_words['Tags'] = post_words[\"Tags\"].apply(to_lst)\n",
    "\n",
    "post_words.head()"
   ]
  },
  {
   "cell_type": "code",
   "execution_count": 4,
   "metadata": {},
   "outputs": [],
   "source": [
    "# creates dataframes with only posts that contain code and no code\n",
    "codeidx = post_words[\"Code\"].str[0] != ''\n",
    "has_code = post_words[codeidx]\n",
    "no_code = post_words[-codeidx]"
   ]
  },
  {
   "cell_type": "code",
   "execution_count": 5,
   "metadata": {},
   "outputs": [],
   "source": [
    "# creates dataframes with only posts that are labeled as high quality, low quality closed, or low quality edited\n",
    "hq = post_words[post_words[\"Y\"] == \"HQ\"]\n",
    "lq_close = post_words[post_words[\"Y\"] == \"LQ_CLOSE\"]\n",
    "lq_edit = post_words[post_words[\"Y\"] == \"LQ_EDIT\"]"
   ]
  },
  {
   "cell_type": "code",
   "execution_count": 6,
   "metadata": {},
   "outputs": [],
   "source": [
    "# PLDA model, uses Title, Body_processed, and Code as features\n",
    "def model(df, test_on, name):\n",
    "    \n",
    "    # combines features into one, converts to list of words\n",
    "    def formatting(df):\n",
    "        df['Input'] = df['Title_processed'].str.lower() + ' ' + df['Body_processed'] + ' ' + df['Code'].str[0]\n",
    "        df['Input'] = df['Input'].str.split()\n",
    "\n",
    "    tomo_df = df.copy()\n",
    "    formatting(tomo_df)\n",
    "\n",
    "    fin = tomo_df[['Input', 'Tags']]\n",
    "    \n",
    "    train, test = train_test_split(fin, train_size = 0.12, shuffle=True)\n",
    "    plda_mdl = tp.PLDAModel()\n",
    "\n",
    "    # trains model\n",
    "    for index, row in train.iterrows():\n",
    "        plda_mdl.add_doc(row['Input'], row['Tags'])\n",
    "    for _ in range(10):\n",
    "        plda_mdl.train(10)\n",
    "#         print('Iteration: {}\\tLog-likelihood: {}'.format(i, plda_mdl.ll_per_word))\n",
    "    \n",
    "    # calculates train accuracy\n",
    "    count = 0\n",
    "    total = 0\n",
    "    for i in train.index[:test_on]:\n",
    "        total += 1\n",
    "        new_doc = fin['Input'][i]\n",
    "        infer_doc = plda_mdl.make_doc(new_doc)\n",
    "        infer_topic_dist = plda_mdl.infer(infer_doc)\n",
    "        np.where(infer_topic_dist[0] == max(infer_topic_dist[0]))\n",
    "        if plda_mdl.topic_label_dict[np.where(infer_topic_dist[0] == max(infer_topic_dist[0]))[0][0]] in fin['Tags'][i]:\n",
    "            count += 1\n",
    "#         print(\"accuracy: \", count/total)\n",
    "    train_acc = count/total\n",
    "    \n",
    "    # calculates test accuracy and saves prediction to a csv\n",
    "    count = 0\n",
    "    total = 0\n",
    "    predictions_test = []\n",
    "    test_preds = test[:test_on].copy()\n",
    "    for i in test.index[:test_on]:\n",
    "        total += 1\n",
    "        new_doc = fin['Input'][i]\n",
    "        infer_doc = plda_mdl.make_doc(new_doc)\n",
    "        infer_topic_dist = plda_mdl.infer(infer_doc)\n",
    "        np.where(infer_topic_dist[0] == max(infer_topic_dist[0]))\n",
    "        predictions_test.append(plda_mdl.topic_label_dict\\\n",
    "                                [np.where(infer_topic_dist[0] == \\\n",
    "                                          max(infer_topic_dist[0]))[0][0]])\n",
    "\n",
    "        if predictions_test[-1] in fin['Tags'][i]:\n",
    "            count += 1\n",
    "    test_preds['Predictions'] = predictions_test\n",
    "    test_preds.to_csv(name)\n",
    "    test_acc = count/total\n",
    "#     print(train_acc, test_acc)\n",
    "    return train_acc, test_acc, plda_mdl"
   ]
  },
  {
   "cell_type": "code",
   "execution_count": 7,
   "metadata": {},
   "outputs": [
    {
     "name": "stdout",
     "output_type": "stream",
     "text": [
      "post_words:  0.8355 0.4835\n"
     ]
    }
   ],
   "source": [
    "# tests model on dataset as a whole\n",
    "tr1, te1, pwm = model(post_words, 2000, \"pwm.csv\")\n",
    "print(\"post_words: \", tr1, te1)"
   ]
  },
  {
   "cell_type": "code",
   "execution_count": 8,
   "metadata": {},
   "outputs": [
    {
     "name": "stdout",
     "output_type": "stream",
     "text": [
      "has_code:  0.8755 0.454\n"
     ]
    }
   ],
   "source": [
    "# tests model on the following subsets of the data:\n",
    "# posts that have code\n",
    "tr2, te2, hcm = model(has_code, 2000, \"hcm.csv\")\n",
    "print(\"has_code: \", tr2, te2)"
   ]
  },
  {
   "cell_type": "code",
   "execution_count": 9,
   "metadata": {},
   "outputs": [
    {
     "name": "stdout",
     "output_type": "stream",
     "text": [
      "no_code:  0.828 0.416\n"
     ]
    }
   ],
   "source": [
    "# posts that have no code\n",
    "tr3, te3, ncm = model(no_code, 2000, \"ncm.csv\")\n",
    "print(\"no_code: \", tr3, te3)"
   ]
  },
  {
   "cell_type": "code",
   "execution_count": 10,
   "metadata": {},
   "outputs": [
    {
     "name": "stdout",
     "output_type": "stream",
     "text": [
      "hq:  0.8483333333333334 0.315\n"
     ]
    }
   ],
   "source": [
    "# posts labeled as high quality\n",
    "tr4, te4, hqm = model(hq, 2000, \"hqm.csv\")\n",
    "print(\"hq: \", tr4, te4)"
   ]
  },
  {
   "cell_type": "code",
   "execution_count": 11,
   "metadata": {},
   "outputs": [
    {
     "name": "stdout",
     "output_type": "stream",
     "text": [
      "lq_close:  0.8983333333333333 0.4785\n"
     ]
    }
   ],
   "source": [
    "# posts labeled as low quality close\n",
    "tr5, te5, lcm = model(lq_close, 2000, \"lcm.csv\")\n",
    "print(\"lq_close: \", tr5, te5)"
   ]
  },
  {
   "cell_type": "code",
   "execution_count": 12,
   "metadata": {},
   "outputs": [
    {
     "name": "stdout",
     "output_type": "stream",
     "text": [
      "lq_edit:  0.8438888888888889 0.4475\n"
     ]
    }
   ],
   "source": [
    "# posts labeled as low quality edit\n",
    "tr6, te6, lem = model(lq_edit, 2000, \"lem.csv\")\n",
    "print(\"lq_edit: \", tr6, te6)"
   ]
  },
  {
   "cell_type": "code",
   "execution_count": null,
   "metadata": {},
   "outputs": [],
   "source": []
  }
 ],
 "metadata": {
  "kernelspec": {
   "display_name": "Python 3 (ipykernel)",
   "language": "python",
   "name": "python3"
  },
  "language_info": {
   "codemirror_mode": {
    "name": "ipython",
    "version": 3
   },
   "file_extension": ".py",
   "mimetype": "text/x-python",
   "name": "python",
   "nbconvert_exporter": "python",
   "pygments_lexer": "ipython3",
   "version": "3.8.10"
  }
 },
 "nbformat": 4,
 "nbformat_minor": 2
}
